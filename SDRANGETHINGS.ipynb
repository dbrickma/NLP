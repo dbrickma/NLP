{
 "cells": [
  {
   "cell_type": "code",
   "execution_count": 1,
   "metadata": {
    "collapsed": true
   },
   "outputs": [],
   "source": [
    "def ran_check(num1, num2):\n",
    "     for num in range(num2):\n",
    "        def SD_Check(num2): \n",
    "            for num in range(num2):\n",
    "                r = range(num2)\n",
    "                z = sum(range(num2))\n",
    "                l = len(range(num2))\n",
    "                av = float(z/l)\n",
    "                SS = (sum(((av - i)**2 for i in r)))/l\n",
    "                SD = SS**.5\n",
    "                return SD\n",
    "            return SD_Check()[0]\n",
    "        print SD_Check(num2)\n",
    "        x = sum(range(num2))\n",
    "        y = len(range(num2))\n",
    "        z = x/y\n",
    "        if num1 >= z + SD_Check(num2): \n",
    "            print 'high' \n",
    "        elif num1 <= z - SD_Check(num2): \n",
    "            print 'low' \n",
    "        else: \n",
    "            print 'average'"
   ]
  },
  {
   "cell_type": "code",
   "execution_count": 6,
   "metadata": {
    "collapsed": false
   },
   "outputs": [
    {
     "name": "stdout",
     "output_type": "stream",
     "text": [
      "0.816496580928\n",
      "high\n",
      "0.816496580928\n",
      "high\n",
      "0.816496580928\n",
      "high\n"
     ]
    }
   ],
   "source": [
    "ran_check(6,3)"
   ]
  },
  {
   "cell_type": "code",
   "execution_count": null,
   "metadata": {
    "collapsed": true
   },
   "outputs": [],
   "source": []
  }
 ],
 "metadata": {
  "anaconda-cloud": {},
  "kernelspec": {
   "display_name": "Python 2",
   "language": "python",
   "name": "python2"
  },
  "language_info": {
   "codemirror_mode": {
    "name": "ipython",
    "version": 2
   },
   "file_extension": ".py",
   "mimetype": "text/x-python",
   "name": "python",
   "nbconvert_exporter": "python",
   "pygments_lexer": "ipython2",
   "version": "2.7.12"
  }
 },
 "nbformat": 4,
 "nbformat_minor": 0
}
